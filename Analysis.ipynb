{
 "cells": [
  {
   "cell_type": "markdown",
   "metadata": {},
   "source": [
    "Display the different models performance"
   ]
  },
  {
   "cell_type": "code",
   "execution_count": null,
   "metadata": {},
   "outputs": [],
   "source": [
    "import os \n",
    "import json\n",
    "import numpy as np\n",
    "import pandas as pd\n",
    "import seaborn as sns\n",
    "import matplotlib.pyplot as plt\n",
    "\n",
    "custom_params = {\"axes.spines.right\": False, \"axes.spines.top\": False, \"axes.spines.left\": False,\n",
    "                 \"axes.spines.bottom\": False, \"figure.dpi\": 100}\n",
    "sns.set_theme(style = \"whitegrid\", rc = custom_params, font_scale = 1.75)"
   ]
  },
  {
   "cell_type": "code",
   "execution_count": null,
   "metadata": {},
   "outputs": [],
   "source": [
    "path = 'results/'"
   ]
  },
  {
   "cell_type": "code",
   "execution_count": null,
   "metadata": {},
   "outputs": [],
   "source": [
    "simulations, all = {}, {}\n",
    "names = {'indi': 'Individuals', 'poin': 'Points', 'time': 'Time', 'miss': 'Misspecification', 'rand': 'Random effect', 'corr': 'Correlated Random Effect', 'noco': 'Uncorrelated Data', 'sinu': 'Sinus'}\n",
    "for file_name in os.listdir(path):\n",
    "    name = file_name[:file_name.rindex('.')].replace('_summary', '')\n",
    "    exp = names[name[:4]]\n",
    "    try:\n",
    "        value = float(name.replace('individuals', '').replace('points', ''))\n",
    "    except:\n",
    "        value = np.nan\n",
    "    with open(path + file_name) as json_file:\n",
    "        if 'summary' in file_name:\n",
    "            simulations[(exp, value)] = json.load(json_file)\n",
    "        else:\n",
    "            all[(exp, value)] = json.load(json_file)\n",
    "            print(exp, value, all[(exp, value)]['start'][0])\n",
    "            n_experiments = all[(exp, value)]['start'][0] - 1"
   ]
  },
  {
   "cell_type": "markdown",
   "metadata": {},
   "source": [
    "# Displays error"
   ]
  },
  {
   "cell_type": "code",
   "execution_count": null,
   "metadata": {},
   "outputs": [],
   "source": [
    "models = {'correct': 'Correct', \n",
    "          'mm': 'MM',\n",
    "          'all': 'All', \n",
    "          'outcomes': r'Mis. $y$', \n",
    "          'sigma': r'Mis. $\\omega$', \n",
    "          'nore': r'No $u^\\omega$',\n",
    "          'sigmanore': r'No $u^\\omega$ + Mis. $\\omega$',\n",
    "          'melsm_notime': 'No Time',\n",
    "          'gaussian': r'Gaussian $u^\\omega$', \n",
    "          'non_sinus': 'Non sinus',\n",
    "          'incorrect': r'Uncorrelated ($u^\\omega$, $u^y$)'}\n",
    "\n",
    "covariates = {'time': 'Time', \n",
    "             'beta': r'$\\beta^y$',\n",
    "             'beta_out_error': r'$\\beta^y$',\n",
    "             'beta_out_relative': r'$\\beta^y$',\n",
    "             'beta_out_coverage': r'$\\beta^y$',\n",
    "             'beta_omega': r'$\\beta^{\\omega}$',\n",
    "             'beta_omega_error': r'$\\beta^{\\omega}$',\n",
    "             'beta_omega_relative': r'$\\beta^{\\omega}$',\n",
    "             'beta_omega_coverage': r'$\\beta^{\\omega}$',\n",
    "             're_out': r'$u^y$',\n",
    "             're_omega_0': r'$u^{\\omega}_0$',\n",
    "             're_omega_1': r'$u^{\\omega}_1$',\n",
    "             'sd_re_out': r'$\\sigma_{y}$',\n",
    "             'sd_re_omega_0': r'$\\sigma_{\\omega, 0}$',\n",
    "             'sd_re_omega_1': r'$\\sigma_{\\omega, 1}$',\n",
    "             'last': 'Outcome',\n",
    "             'average': 'Outcome'}\n",
    "\n",
    "cov_names = ['Age', 'Albumin', 'Trig', 'Platelet']"
   ]
  },
  {
   "cell_type": "code",
   "execution_count": null,
   "metadata": {},
   "outputs": [],
   "source": [
    "parameter = 'beta_out_error' \n",
    "dimension = 1"
   ]
  },
  {
   "cell_type": "code",
   "execution_count": null,
   "metadata": {},
   "outputs": [],
   "source": [
    "compare, error, all_selection = {}, {}, {}\n",
    "for simulation in simulations:\n",
    "    compare[simulation], error[simulation] = {}, {}\n",
    "    for model in simulations[simulation]:\n",
    "        if parameter in simulations[simulation][model]:\n",
    "            compare[simulation][models[model]] = simulations[simulation][model][parameter]['value'][dimension if dimension is not None else 0]\n",
    "            error[simulation][models[model]] = simulations[simulation][model][parameter]['std'][dimension if dimension is not None else 0]\n",
    "            all_selection[tuple(list(simulation) + [models[model]])] = np.array(all[simulation][model][parameter])[:, dimension] if dimension is not None else np.array(all[simulation][model][parameter])[:,0]\n",
    "            \n",
    "    compare[simulation], error[simulation] = pd.Series(compare[simulation]), pd.Series(error[simulation])\n",
    "compare, error = pd.concat(compare, axis = 1), pd.concat(error, axis = 1)\n",
    "compare, error = compare.T.sort_index().T.loc[[m for m in models.values() if m in compare.index]], error.T.sort_index().T.loc[[m for m in models.values() if m in compare.index]]\n",
    "all_selection = pd.DataFrame.from_dict(all_selection)"
   ]
  },
  {
   "cell_type": "code",
   "execution_count": null,
   "metadata": {},
   "outputs": [],
   "source": [
    "for exp in names.values():\n",
    "    if parameter == 'time':\n",
    "       xlabel = 'Relative Time'\n",
    "       ratio = compare.loc[:, exp].dropna().rename(models)\n",
    "       ratio = ratio / ratio.loc['correct']\n",
    "       ratio[ratio.index != 'correct'].plot.barh(legend = False)\n",
    "    else:\n",
    "        try:\n",
    "            ax = compare.loc[:, exp].dropna().rename(models).plot.barh(legend = False, xerr = 1.96 * error.loc[:,exp].dropna() / np.sqrt(n_experiments))\n",
    "            plt.xlim(max(np.min(compare.loc[:, exp].dropna())- 0.5 * np.std(compare.loc[:, exp].dropna().values), 0), None)\n",
    "            if 'coverage' in parameter:\n",
    "                xlabel = 'Coverage (%)'\n",
    "            else:\n",
    "                xlabel = 'Absolute error'\n",
    "        except:\n",
    "            continue\n",
    "    plt.xlabel(xlabel)\n",
    "    plt.ylabel('Models')\n",
    "    plt.title('{}[{}] - {} experiment'.format(covariates[parameter], cov_names[dimension], exp) if dimension is not None else '{} - {} experiment'.format(covariates[parameter], exp))\n",
    "    if len(compare.loc[:, exp].columns) > 1:\n",
    "        plt.legend(title = exp, loc='center left', bbox_to_anchor=(1, 0.5))\n",
    "    plt.grid(alpha = 0.3)\n",
    "\n",
    "    plt.savefig('images/{}/{}_{}.png'.format(exp, parameter, dimension), bbox_inches='tight')"
   ]
  },
  {
   "cell_type": "code",
   "execution_count": null,
   "metadata": {},
   "outputs": [],
   "source": [
    "true_values = {\n",
    "    \"beta\": [0.5, 0.5, 0, 0],\n",
    "    \"beta_omega\": [0.8, 0., 0.8, 0.],\n",
    "}"
   ]
  },
  {
   "cell_type": "code",
   "execution_count": null,
   "metadata": {},
   "outputs": [],
   "source": [
    "assert ((parameter == \"beta_omega\") or (parameter == \"beta\")), \"Display distribution only for parameters estimates\"\n",
    "\n",
    "for exp in names.values():\n",
    "      try: \n",
    "            param_name = '{}[{}]'.format(covariates[parameter], cov_names[dimension])\n",
    "            data = all_selection[exp].dropna().stack([0, 1]).reset_index(level=0, drop=True).to_frame(name = param_name).reset_index(names = [exp, \"Models\"])\n",
    "            data = data.dropna(axis = 'columns', how = 'all')\n",
    "            sns.boxplot(data, x = param_name, y = \"Models\", order = [m for m in models.values() if m in data.Models.unique()][::-1], hue = exp if exp in data.columns else None, color='tab:blue'if exp not in data.columns else None)\n",
    "\n",
    "            plt.axvline(true_values[parameter][dimension], color = 'tab:red', linestyle = '--')\n",
    "            plt.title(exp)\n",
    "            if len(compare.loc[:, exp].columns) > 1:\n",
    "                  plt.legend(title = exp, loc='center left', bbox_to_anchor=(1, 0.5))\n",
    "            plt.savefig('images/{}/{}_{}.png'.format(exp, parameter, dimension), bbox_inches='tight')\n",
    "            plt.show()\n",
    "      except Exception as e:\n",
    "            print(e)\n"
   ]
  },
  {
   "cell_type": "code",
   "execution_count": null,
   "metadata": {},
   "outputs": [],
   "source": []
  }
 ],
 "metadata": {
  "kernelspec": {
   "display_name": "Python 3",
   "language": "python",
   "name": "python3"
  },
  "language_info": {
   "codemirror_mode": {
    "name": "ipython",
    "version": 3
   },
   "file_extension": ".py",
   "mimetype": "text/x-python",
   "name": "python",
   "nbconvert_exporter": "python",
   "pygments_lexer": "ipython3",
   "version": "3.9.19"
  }
 },
 "nbformat": 4,
 "nbformat_minor": 2
}
