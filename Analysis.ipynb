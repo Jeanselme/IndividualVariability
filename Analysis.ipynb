{
 "cells": [
  {
   "cell_type": "markdown",
   "metadata": {},
   "source": [
    "Display the different models performance over each simulation"
   ]
  },
  {
   "cell_type": "code",
   "execution_count": null,
   "metadata": {},
   "outputs": [],
   "source": [
    "import os \n",
    "import numpy as np\n",
    "import pandas as pd\n",
    "import seaborn as sns\n",
    "import matplotlib.pyplot as plt\n",
    "\n",
    "custom_params = {\"axes.spines.right\": False, \"axes.spines.top\": False, \"axes.spines.left\": False,\n",
    "                 \"axes.spines.bottom\": False, \"figure.dpi\": 100}\n",
    "sns.set_theme(style = \"whitegrid\", rc = custom_params, font_scale = 1.75)"
   ]
  },
  {
   "cell_type": "code",
   "execution_count": null,
   "metadata": {},
   "outputs": [],
   "source": [
    "path = 'results/'"
   ]
  },
  {
   "cell_type": "code",
   "execution_count": null,
   "metadata": {},
   "outputs": [],
   "source": [
    "# Naming for all \n",
    "models = {\n",
    "    'correct': 'Correct', \n",
    "    'mm': 'LMM',\n",
    "    'all': 'All', \n",
    "    'outcomes': r'Mis. $y$', \n",
    "    'sigma': r'Mis. $\\omega$', \n",
    "    'nore': r'No $u^\\omega$',\n",
    "    'sigmanore': r'No $u^\\omega$ + Mis. $\\omega$',\n",
    "    'melsm_notime': 'No slopes',\n",
    "    'melsm_notimeomega': 'No $u^\\omega_{age}$',\n",
    "    'gaussian': 'Gaussian', \n",
    "    'nonsinus': 'Non sinus',\n",
    "    'incorrect': r'Uncorrelated ($u^\\omega$, $u^y$)'\n",
    "    }\n",
    "\n",
    "covariates = {\n",
    "    # Covariates for mean\n",
    "    'b_age': (r'$\\beta^y[Age]$', 0.5),\n",
    "    'b_albumin': (r'$\\beta^y[Albumin]$', 0.5),\n",
    "    'b_trig': (r'$\\beta^y[Trig]$', 0),\n",
    "    'b_platelet': (r'$\\beta^y[Platelet]$', 0),\n",
    "\n",
    "    'sd_id__Intercept': (r'$\\sigma_{y}$', 1),\n",
    "\n",
    "    # Covariates for variance\n",
    "    'b_sigma_age': (r'$\\beta^{\\omega}[Age]$', 0.8),\n",
    "    'b_sigma_albumin': (r'$\\beta^{\\omega}[Albumin]$', 0),\n",
    "    'b_sigma_trig': (r'$\\beta^{\\omega}[Trig]$', 0.8),\n",
    "    'b_sigma_platelet': (r'$\\beta^{\\omega}[Platelet]$', 0),\n",
    "\n",
    "    'sd_id__sigma_Intercept': (r'$\\sigma_{\\omega}$', 0.5),\n",
    "    'sd_id__sigma_age': (r'$\\sigma_{\\omega}[Age]$', 0.25)\n",
    "    }"
   ]
  },
  {
   "cell_type": "code",
   "execution_count": null,
   "metadata": {},
   "outputs": [],
   "source": [
    "# Error to analyze\n",
    "parameter = 'b_age'"
   ]
  },
  {
   "cell_type": "code",
   "execution_count": null,
   "metadata": {},
   "outputs": [],
   "source": [
    "naming, value = covariates[parameter]"
   ]
  },
  {
   "cell_type": "code",
   "execution_count": null,
   "metadata": {},
   "outputs": [],
   "source": [
    "def evaluate(path, parameter = parameter):\n",
    "    print(path, ' - ', len(os.listdir(path)))\n",
    "\n",
    "    estimates, ci, esterror, coverage = {}, {}, {}, {}\n",
    "\n",
    "    # Evaluate by iterating across folder structure and averaging for each model types\n",
    "    for replication in os.listdir(path):\n",
    "        model_path = path + replication + '/'\n",
    "        for model in os.listdir(model_path):\n",
    "            if '.csv' not in model: continue\n",
    "\n",
    "            csv_file = pd.read_csv(model_path + model, index_col = 0)\n",
    "            model = models[model[:-4]] # Remove .csv extension\n",
    "            if model not in estimates:\n",
    "                estimates[model], ci[model], esterror[model], coverage[model] = [], [], [], []\n",
    "                \n",
    "            if parameter in csv_file.index: \n",
    "                csv_file = csv_file.loc[parameter]             \n",
    "                estimates[model].append(csv_file['Estimate'])\n",
    "                ci[model].append(csv_file['Q97.5'] - csv_file['Q2.5'])\n",
    "                esterror[model].append(csv_file['Est.Error'])\n",
    "                coverage[model].append((csv_file['Q97.5'] > value) & (value > csv_file['Q2.5']))\n",
    "\n",
    "    return estimates, ci, esterror, coverage"
   ]
  },
  {
   "cell_type": "code",
   "execution_count": null,
   "metadata": {},
   "outputs": [],
   "source": [
    "estimates, ci, esterror, coverage = {}, {}, {}, {}\n",
    "for experiment in os.listdir(path):\n",
    "    for number in os.listdir(path + experiment):\n",
    "        # Check if directory\n",
    "        if experiment in ['Individuals', 'Points', 'Correlated Random Effect']:\n",
    "            estimates[(experiment, int(number))], ci[(experiment, int(number))], \\\n",
    "            esterror[(experiment, int(number))], coverage[(experiment, int(number))] = evaluate(path + experiment + '/' + number + '/')\n",
    "        else:\n",
    "            estimates[(experiment, -1)], ci[(experiment, -1)], \\\n",
    "            esterror[(experiment, -1)], coverage[(experiment, -1)] = evaluate(path + experiment + '/')\n",
    "            break   \n",
    "\n",
    "estimates, ci, esterror, coverage = pd.DataFrame(estimates), pd.DataFrame(ci), pd.DataFrame(esterror), pd.DataFrame(coverage)\n",
    "estimates.index.name, ci.index.name, esterror.index.name, coverage.index.name = 'Models', 'Models', 'Models', 'Models'"
   ]
  },
  {
   "cell_type": "markdown",
   "metadata": {},
   "source": [
    "# Display tables"
   ]
  },
  {
   "cell_type": "code",
   "execution_count": null,
   "metadata": {},
   "outputs": [],
   "source": [
    "# Std of estimates\n",
    "estimates.map(np.std)"
   ]
  },
  {
   "cell_type": "code",
   "execution_count": null,
   "metadata": {},
   "outputs": [],
   "source": [
    "# Average of std\n",
    "esterror.map(np.mean)"
   ]
  },
  {
   "cell_type": "code",
   "execution_count": null,
   "metadata": {},
   "outputs": [],
   "source": [
    "# Average CI\n",
    "ci.map(lambda x: '{:.2f} ({:.2f})'.format(np.mean(x), np.std(x)))"
   ]
  },
  {
   "cell_type": "markdown",
   "metadata": {},
   "source": [
    "# Displays error"
   ]
  },
  {
   "cell_type": "code",
   "execution_count": null,
   "metadata": {},
   "outputs": [],
   "source": [
    "display[parameter]"
   ]
  },
  {
   "cell_type": "code",
   "execution_count": null,
   "metadata": {},
   "outputs": [],
   "source": [
    "for simulation in estimates.columns.get_level_values(0).unique():\n",
    "\tshift = 0.025\n",
    "\tif simulation != 'Individuals' and simulation != 'Points':\n",
    "\t\tdisplay = estimates[simulation][estimates.index != 'LMM']\n",
    "\telse:\n",
    "\t\tdisplay = estimates[simulation]\n",
    "\tdisplay = display.dropna()\n",
    "\n",
    "\torder = [m for m in models.values() if m in display.index.unique()][::-1]\n",
    "\thue = simulation if len(display.columns) > 1 else None\n",
    "\n",
    "\t# Transform in long format\n",
    "\tdisplay = display.apply(pd.Series.explode).melt(var_name = simulation, value_name = naming, ignore_index = False).reset_index()\n",
    "\tdisplay = display if hue else display.drop(simulation, axis = 1)\t\n",
    "\tax = sns.boxplot(display, x = naming, y = \"Models\", order = order, hue = hue, color='tab:blue' if not hue else None) \n",
    "\n",
    "\tyticks = ax.get_yticks()\n",
    "\tif simulation in display.columns:\n",
    "\t\thue_values = display[simulation].unique()\n",
    "\t\tsummary_values = display.groupby([\"Models\", simulation]).max()\n",
    "\t\t# Extract box positions\n",
    "\t\tbox_positions = {}\n",
    "\t\tfor i, m in enumerate(order):\n",
    "\t\t\tfor j, h in enumerate(hue_values):\n",
    "\t\t\t\t\toffset = (j - (len(hue_values) - 1) / 2) * 0.2  # Adjust for hue groups\n",
    "\t\t\t\t\tbox_positions[(m, h)] = yticks[i] + offset\n",
    "\telse:\n",
    "\t\tsummary_values = display.groupby([\"Models\"]).max()\n",
    "\t\t# Extract box positions\n",
    "\t\tbox_positions = {}\n",
    "\t\tfor i, m in enumerate(order):\n",
    "\t\t\tbox_positions[(m, -1)] = yticks[i]\n",
    "\n",
    "\t# Annotate at the right end of each box\n",
    "\tfor m, h in box_positions.keys():\n",
    "\t\tval = np.mean(coverage[simulation, h].loc[m])\n",
    "\t\tif ~np.isnan(val): \n",
    "\t\t\tax.text(display[naming].max(), box_positions[(m, h)], f'{val:.0%}', ha='left',\n",
    "\t\t\t\t\tfontsize=15, va='center', color='black', \n",
    "\t\t\t\t\tbackgroundcolor='white')\n",
    "\n",
    "\tplt.xlim(max(0, ax.get_xlim()[0]), max(display[naming].max() + shift * 3, ax.get_xlim()[1]))\n",
    "\tplt.axvline(value, color = 'tab:red', linestyle = '--')\n",
    "\tif hue:\n",
    "\t\tplt.legend(title = simulation, loc='center left', bbox_to_anchor=(1, 0.5))\n",
    "\n",
    "\tplt.title(simulation)\n",
    "\tplt.savefig('images/{}/{}.png'.format(simulation, naming), bbox_inches='tight')\n",
    "\tplt.show()"
   ]
  },
  {
   "cell_type": "code",
   "execution_count": null,
   "metadata": {},
   "outputs": [],
   "source": []
  }
 ],
 "metadata": {
  "kernelspec": {
   "display_name": "Python 3",
   "language": "python",
   "name": "python3"
  },
  "language_info": {
   "codemirror_mode": {
    "name": "ipython",
    "version": 3
   },
   "file_extension": ".py",
   "mimetype": "text/x-python",
   "name": "python",
   "nbconvert_exporter": "python",
   "pygments_lexer": "ipython3",
   "version": "3.9.19"
  }
 },
 "nbformat": 4,
 "nbformat_minor": 2
}
